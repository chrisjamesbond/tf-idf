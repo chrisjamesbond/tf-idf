{
 "cells": [
  {
   "cell_type": "markdown",
   "metadata": {},
   "source": [
    "Words that occur nearby frequently are more important than words that only appear once or twice. Yet words that are too frequent — ubiquitous, like \"the\" or \"good\" — are unimportant. How can we balance these two conflicting constraints?"
   ]
  },
  {
   "cell_type": "code",
   "execution_count": 274,
   "metadata": {},
   "outputs": [],
   "source": [
    "import numpy as np\n",
    "import os\n",
    "import math\n",
    "from functools import reduce\n",
    "from collections import defaultdict\n",
    "\n",
    "# directory where documents are stored\n",
    "documents_directory = os.path.expanduser('documents')\n",
    "documents = os.listdir(documents_directory)\n",
    "documents.sort()"
   ]
  },
  {
   "cell_type": "code",
   "execution_count": 275,
   "metadata": {},
   "outputs": [],
   "source": [
    "# gets a set of unique terms from a specific document\n",
    "def get_all_terms_from_document(file_path):\n",
    "    with open(file_path, 'r') as file:\n",
    "        document = file.read()\n",
    "    # split document into terms and convert to a set of unique terms\n",
    "    terms = document.split()\n",
    "    return terms"
   ]
  },
  {
   "cell_type": "code",
   "execution_count": 276,
   "metadata": {},
   "outputs": [],
   "source": [
    "# gets all the unique terms for a set of documents in a directory\n",
    "def get_all_unique_terms(directory):\n",
    "    unique_terms = []\n",
    "\n",
    "    for filename in os.listdir(directory):\n",
    "        if filename.endswith(\".txt\"):\n",
    "            file_path = os.path.join(directory, filename)\n",
    "            unique_terms.extend(get_all_terms_from_document(file_path))\n",
    "\n",
    "    unique_terms = set(unique_terms)\n",
    "\n",
    "    return unique_terms\n",
    "\n",
    "unique_terms = list(get_all_unique_terms(documents_directory))\n",
    "unique_terms.sort()"
   ]
  },
  {
   "cell_type": "code",
   "execution_count": 277,
   "metadata": {},
   "outputs": [
    {
     "name": "stdout",
     "output_type": "stream",
     "text": [
      "Number of documents 5\n",
      "Number of terms 38872\n"
     ]
    }
   ],
   "source": [
    "num_documents = len([name for name in os.listdir(documents_directory) if os.path.isfile(os.path.join(documents_directory, name))])\n",
    "num_terms = len(unique_terms)\n",
    "\n",
    "print(f'Number of documents {num_documents}')\n",
    "print(f'Number of terms {num_terms}')\n",
    "\n",
    "# init the term_frequency matrix\n",
    "term_frequency = np.zeros((num_terms, num_documents), dtype=float)"
   ]
  },
  {
   "cell_type": "markdown",
   "metadata": {},
   "source": [
    "We need to get the count of terms for each document and store them in a matrix of size t x d\n",
    "$$\n",
    "\\text{term\\_frequency}_{term,document} = \\text{count}(term, document)\n",
    "$$"
   ]
  },
  {
   "cell_type": "code",
   "execution_count": 278,
   "metadata": {},
   "outputs": [],
   "source": [
    "# define a couple helper functions to get our indicies from labels\n",
    "term_to_index = {term: idx for idx, term in enumerate(unique_terms)}\n",
    "document_to_index = {document: idx for idx, document in enumerate(documents)}\n",
    "\n",
    "# get the counts of terms in each document\n",
    "def compute_term_frequency_matrix(directory, documents, tf):\n",
    "    for document in documents:\n",
    "        file_path = os.path.join(directory, document)\n",
    "        all_terms_in_document = get_all_terms_from_document(file_path)\n",
    "\n",
    "        word_frequencies = reduce(lambda freq, word: freq.update({word: freq.get(word, 0) + 1}) or freq, all_terms_in_document, defaultdict(int))\n",
    "        word_frequencies = dict(word_frequencies)\n",
    "\n",
    "        for term in word_frequencies.keys():\n",
    "            term_frequency[term_to_index[term], document_to_index[document]] = word_frequencies[term]\n",
    "    \n",
    "compute_term_frequency_matrix(documents_directory, documents, term_frequency)"
   ]
  },
  {
   "cell_type": "code",
   "execution_count": 279,
   "metadata": {},
   "outputs": [
    {
     "name": "stdout",
     "output_type": "stream",
     "text": [
      "Term frequency for ebook:\n",
      "100.txt: 13.0\n",
      "11.txt: 13.0\n",
      "76.txt: 13.0\n",
      "84.txt: 13.0\n",
      "98.txt: 13.0\n"
     ]
    }
   ],
   "source": [
    "# we can look up individual terms, right now the frequency is just a count, but let's change that\n",
    "term = 'ebook'\n",
    "\n",
    "def term_lookup(term, term_frequency):\n",
    "    term_index = term_to_index[term]\n",
    "    print(f'Term frequency for {term}:')\n",
    "    for document in documents:\n",
    "        document_index = document_to_index[document]\n",
    "        print(f'{document}: {term_frequency[term_index, document_index]}')\n",
    "    \n",
    "\n",
    "term_lookup(term, term_frequency)"
   ]
  },
  {
   "cell_type": "markdown",
   "metadata": {},
   "source": [
    "Now let's squash the raw frequency using log10. A word appearing 100 times in a document doesn’t make that word 100 times more likely to be relevant to the meaning of the document. We also need to do something special with counts of 0, since we can’t take the log of 0.\n",
    "\n",
    "$$\n",
    "\\text{term\\_frequency}_{term,document} =\n",
    "\\begin{cases}\n",
    "1 + \\log_{10}(\\text{count}(term,document)) & \\text{if } \\text{count}(term,document) > 0 \\\\\n",
    "0 & \\text{otherwise}\n",
    "\\end{cases}\n",
    "$$"
   ]
  },
  {
   "cell_type": "code",
   "execution_count": 280,
   "metadata": {},
   "outputs": [
    {
     "name": "stdout",
     "output_type": "stream",
     "text": [
      "Term frequency for ebook:\n",
      "100.txt: 2.113943352306837\n",
      "11.txt: 2.113943352306837\n",
      "76.txt: 2.113943352306837\n",
      "84.txt: 2.113943352306837\n",
      "98.txt: 2.113943352306837\n"
     ]
    }
   ],
   "source": [
    "squash_tf_score = np.vectorize(lambda x: 0 if x == 0 else 1 + math.log(x,10))\n",
    "\n",
    "term_frequency = squash_tf_score(term_frequency)\n",
    "\n",
    "# now our term frequencies are a little smoother\n",
    "term_lookup(term, term_frequency)"
   ]
  },
  {
   "cell_type": "code",
   "execution_count": 281,
   "metadata": {},
   "outputs": [],
   "source": [
    "document_frequency = np.zeros((num_terms), dtype=int)\n",
    "\n",
    "# create a vector of size t and increment each element when term is found in document \n",
    "def compute_document_frequency(directory):\n",
    "    for document in documents:\n",
    "        file_path = os.path.join(directory, document)\n",
    "        all_terms_in_document = set(get_all_terms_from_document(file_path))\n",
    "\n",
    "        for term in list(all_terms_in_document):\n",
    "            document_frequency[term_to_index[term]] += 1\n",
    "\n",
    "\n",
    "compute_document_frequency(documents_directory)"
   ]
  },
  {
   "cell_type": "code",
   "execution_count": 282,
   "metadata": {},
   "outputs": [
    {
     "name": "stdout",
     "output_type": "stream",
     "text": [
      "0.0\n"
     ]
    }
   ],
   "source": [
    "inverse_document_frequency = np.zeros((num_terms), dtype=float)\n",
    "\n",
    "inverse_document_frequency_score = np.vectorize(lambda x: math.log((num_documents / x),10))\n",
    "\n",
    "inverse_document_frequency = inverse_document_frequency_score(document_frequency)\n",
    "\n",
    "print(inverse_document_frequency[term_to_index['ebook']])"
   ]
  },
  {
   "cell_type": "code",
   "execution_count": 299,
   "metadata": {},
   "outputs": [
    {
     "name": "stdout",
     "output_type": "stream",
     "text": [
      "[[0.         0.         0.         0.         0.        ]\n",
      " [0.         0.         0.         0.         0.69897   ]\n",
      " [0.         0.         0.         0.         0.69897   ]\n",
      " ...\n",
      " [0.90938094 0.         0.         0.         0.        ]\n",
      " [0.69897    0.         0.         0.         0.        ]\n",
      " [0.69897    0.         0.         0.         0.        ]]\n"
     ]
    }
   ],
   "source": [
    "# finally, compute the df-idf weights\n",
    "tf_idf_weights = term_frequency * inverse_document_frequency[:, np.newaxis]\n",
    "\n",
    "print(tf_idf_weights)"
   ]
  },
  {
   "cell_type": "code",
   "execution_count": 323,
   "metadata": {},
   "outputs": [
    {
     "data": {
      "image/png": "[encoded data removed]",
      "text/plain": [
       "<Figure size 500x1000 with 2 Axes>"
      ]
     },
     "metadata": {},
     "output_type": "display_data"
    }
   ],
   "source": [
    "from random import randint\n",
    "import matplotlib.pyplot as plt\n",
    "import numpy as np\n",
    "\n",
    "y_labels = [(unique_terms[randint(0, num_terms)]) for i in range(10)]\n",
    "x_labels = documents\n",
    "\n",
    "viz = np.zeros((10,num_documents), dtype=float)\n",
    "\n",
    "\n",
    "for i in range(len(y_labels)):\n",
    "    viz[i] = tf_idf_weights[term_to_index[y_labels[i]]]\n",
    "\n",
    "viz = np.round(viz, decimals=2)\n",
    "\n",
    "#print(viz)\n",
    "\n",
    "# Create the plot\n",
    "plt.figure(figsize=(5, 10))\n",
    "plt.imshow(viz, cmap='viridis', interpolation='nearest', aspect='auto')\n",
    "\n",
    "# Add labels\n",
    "plt.xticks(ticks=np.arange(len(x_labels)), labels=x_labels)\n",
    "plt.yticks(ticks=np.arange(len(y_labels)), labels=y_labels)\n",
    "\n",
    "# Annotate the matrix with the actual numbers\n",
    "for i in range(viz.shape[0]):\n",
    "    for j in range(viz.shape[1]):\n",
    "        plt.text(j, i, f'{viz[i, j]}', ha='center', va='center', color='white')\n",
    "\n",
    "# Add a color bar to represent the scale of the matrix values\n",
    "plt.colorbar()\n",
    "\n",
    "# Show the plot\n",
    "plt.show()\n"
   ]
  },
  {
   "cell_type": "code",
   "execution_count": 287,
   "metadata": {},
   "outputs": [
    {
     "data": {
      "image/png": "[encoded data removed]",
      "text/plain": [
       "<Figure size 600x600 with 2 Axes>"
      ]
     },
     "metadata": {},
     "output_type": "display_data"
    }
   ],
   "source": [
    "import matplotlib.pyplot as plt\n",
    "import numpy as np\n",
    "\n",
    "matrix = np.array([[1, 2, 3], [4, 5, 6], [7, 8, 9]])\n",
    "\n",
    "# Labels for the matrix\n",
    "x_labels = ['X1', 'X2', 'X3']\n",
    "y_labels = ['Y1', 'Y2', 'Y3']\n",
    "\n",
    "# Create the plot\n",
    "plt.figure(figsize=(6, 6))\n",
    "plt.imshow(matrix, cmap='viridis', interpolation='nearest')\n",
    "\n",
    "# Add labels\n",
    "plt.xticks(ticks=np.arange(len(x_labels)), labels=x_labels)\n",
    "plt.yticks(ticks=np.arange(len(y_labels)), labels=y_labels)\n",
    "\n",
    "# Annotate the matrix with the actual numbers\n",
    "for i in range(matrix.shape[0]):\n",
    "    for j in range(matrix.shape[1]):\n",
    "        plt.text(j, i, f'{matrix[i, j]}', ha='center', va='center', color='white')\n",
    "\n",
    "# Add a color bar to represent the scale of the matrix values\n",
    "plt.colorbar()\n",
    "\n",
    "# Show the plot\n",
    "plt.show()"
   ]
  }
 ],
 "metadata": {
  "kernelspec": {
   "display_name": ".venv",
   "language": "python",
   "name": "python3"
  },
  "language_info": {
   "codemirror_mode": {
    "name": "ipython",
    "version": 3
   },
   "file_extension": ".py",
   "mimetype": "text/x-python",
   "name": "python",
   "nbconvert_exporter": "python",
   "pygments_lexer": "ipython3",
   "version": "3.12.5"
  }
 },
 "nbformat": 4,
 "nbformat_minor": 2
}
